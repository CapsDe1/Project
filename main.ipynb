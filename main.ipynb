{
 "cells": [
  {
   "cell_type": "code",
   "execution_count": null,
   "metadata": {},
   "outputs": [],
   "source": [
    "import numpy as np\n",
    "\n",
    "from keras import callbacks\n",
    "\n",
    "from sklearn.model_selection import StratifiedGroupKFold\n",
    "\n",
    "from codes.set_gpu import set_gpu\n",
    "from codes.load_seg_data import load_seg_data\n",
    "from codes.cnn import cnn\n",
    "from codes.print_history import print_history\n",
    "from codes.print_metric import print_metric\n",
    "from codes.print_predict import print_predict\n",
    "\n",
    "set_gpu()\n",
    "\n",
    "x_ADHD, y_ADHD, sbj_ADHD, seg_ADHD = load_seg_data(\"/home/unixuser/cdproject/public_data/segments_PSD/ADHD\", 1)\n",
    "x_HC, y_HC, sbj_HC, seg_HC = load_seg_data(\"/home/unixuser/cdproject/public_data/segments_PSD/HC\", 0)\n",
    "\n",
    "#x = psd 값을 나타내는 (batch size, frequecy, channel, depth) 4d ndarray(ADHD + HC)\n",
    "#y = x의 label ndarray(ADHD + HC)\n",
    "#s = x의 subject ndarray(ADHD + HC)\n",
    "x = np.transpose(np.expand_dims(np.concatenate((x_ADHD, x_HC), axis=0), axis=-1), (0, 2, 1, 3))\n",
    "y = np.concatenate((y_ADHD, y_HC), axis=0)\n",
    "sbj = np.concatenate((sbj_ADHD, sbj_HC), axis=0)\n",
    "seg = np.concatenate((seg_ADHD, seg_HC), axis=0)\n",
    "\n",
    "sgkf = StratifiedGroupKFold(n_splits=10)\n",
    "for fold_num, (train_index, test_index) in enumerate(sgkf.split(x, y, sbj), start=1):\n",
    "    x_train = x[train_index]\n",
    "    y_train = y[train_index]\n",
    "\n",
    "    x_test = x[test_index]\n",
    "    y_test = y[test_index]\n",
    "    sbj_test = sbj[test_index]\n",
    "    seg_test = seg[test_index]\n",
    "\n",
    "    model = cnn(x[0].shape)\n",
    "\n",
    "    print(f\"--------------------fold {fold_num}--------------------\")\n",
    "\n",
    "    reduce_lr = callbacks.ReduceLROnPlateau(monitor='val_loss', factor=0.5, patience=5, min_lr=0.00001, verbose=1)\n",
    "    early_stopping = callbacks.EarlyStopping(monitor='val_loss', patience=10, restore_best_weights=True)\n",
    "    checkpoint = callbacks.ModelCheckpoint('best_model.keras', monitor='val_loss', save_best_only=True, mode='min')\n",
    "\n",
    "    history = model.fit(x_train, y_train, epochs=50, batch_size=10, verbose=0, validation_data=(x_test, y_test), callbacks=[reduce_lr, early_stopping, checkpoint])\n",
    "    print_history(history)\n",
    "\n",
    "    metric = model.evaluate(x_test, y_test, verbose=0)\n",
    "    print(metric)\n",
    "\n",
    "    y_predicted = model.predict(x_test)\n",
    "    print_predict(y_predicted, y_test, sbj_test, seg_test, fold_num)"
   ]
  }
 ],
 "metadata": {
  "kernelspec": {
   "display_name": "Python 3",
   "language": "python",
   "name": "python3"
  },
  "language_info": {
   "codemirror_mode": {
    "name": "ipython",
    "version": 3
   },
   "file_extension": ".py",
   "mimetype": "text/x-python",
   "name": "python",
   "nbconvert_exporter": "python",
   "pygments_lexer": "ipython3",
   "version": "3.10.12"
  }
 },
 "nbformat": 4,
 "nbformat_minor": 2
}
